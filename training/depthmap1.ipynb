{
 "cells": [
  {
   "cell_type": "code",
   "execution_count": 33,
   "metadata": {},
   "outputs": [],
   "source": [
    "import open3d as o3d\n",
    "import numpy as np\n",
    "import cv2\n",
    "from matplotlib import pyplot as plt\n",
    "\n",
    "path = \"IMG_DIR\"\n",
    "imgdir = f\"{path}PHOTO\""
   ]
  },
  {
   "cell_type": "code",
   "execution_count": 34,
   "metadata": {},
   "outputs": [],
   "source": [
    "import matplotlib\n",
    "matplotlib.use('TkAgg')\n",
    "from matplotlib import pyplot as plt\n",
    "from PIL import Image\n",
    "import torch\n",
    "from transformers import GLPNFeatureExtractor, GLPNForDepthEstimation"
   ]
  },
  {
   "cell_type": "code",
   "execution_count": 26,
   "metadata": {},
   "outputs": [],
   "source": [
    "feature_extractor = GLPNFeatureExtractor.from_pretrained(\"vinvino02/glpn-nyu\")\n",
    "model = GLPNForDepthEstimation.from_pretrained(\"vinvino02/glpn-nyu\")"
   ]
  },
  {
   "cell_type": "code",
   "execution_count": 35,
   "metadata": {},
   "outputs": [],
   "source": [
    "def read_this(image_file, gray_scale=False):\n",
    "    image_src = cv2.imread(image_file)\n",
    "    if gray_scale:\n",
    "        image_src = cv2.cvtColor(image_src, cv2.COLOR_BGR2GRAY)\n",
    "    else:\n",
    "        image_src = cv2.cvtColor(image_src, cv2.COLOR_BGR2RGB)\n",
    "    return image_src\n"
   ]
  },
  {
   "cell_type": "code",
   "execution_count": 36,
   "metadata": {},
   "outputs": [],
   "source": [
    "def equalize_this(image_file, with_plot=False, gray_scale=False):\n",
    "    \n",
    "    image_src = read_this(image_file=image_file, gray_scale=gray_scale)\n",
    "    if not gray_scale:\n",
    "        r_image, g_image, b_image = cv2.split(image_src)\n",
    "\n",
    "        r_image_eq = cv2.equalizeHist(r_image)\n",
    "        g_image_eq = cv2.equalizeHist(g_image)\n",
    "        b_image_eq = cv2.equalizeHist(b_image)\n",
    "\n",
    "        image_eq = cv2.merge((r_image_eq, g_image_eq, b_image_eq))\n",
    "        cmap_val = None\n",
    "    else:\n",
    "        image_eq = cv2.equalizeHist(image_src)\n",
    "        cmap_val = 'gray'\n",
    "\n",
    "    if with_plot:\n",
    "\n",
    "        # Show the image with the depth color-coded\n",
    "        cv2.imshow(\"Depth Colored\", image_eq)\n",
    "        cv2.waitKey(0)\n",
    "        cv2.destroyAllWindows()\n",
    "\n",
    "    return image_eq\n"
   ]
  },
  {
   "cell_type": "code",
   "execution_count": 37,
   "metadata": {},
   "outputs": [],
   "source": [
    "# image = equalize_this(image_file=imgdir, with_plot=False, gray_scale=True)\n",
    "image = equalize_this(image_file=imgdir, with_plot=False, gray_scale=True)\n",
    "org_img = read_this(image_file=imgdir, gray_scale=False)\n"
   ]
  },
  {
   "cell_type": "code",
   "execution_count": 38,
   "metadata": {},
   "outputs": [],
   "source": [
    "img_size = image.shape\n",
    "new_img = np.zeros((img_size[0], img_size[1], 3))\n",
    "\n",
    "for i in range (img_size[0]):\n",
    "    for j in range (img_size[1]):\n",
    "        for k in range(3):\n",
    "            new_img[i,j,k] = image[i,j]"
   ]
  },
  {
   "cell_type": "code",
   "execution_count": 39,
   "metadata": {},
   "outputs": [],
   "source": [
    "# load and resize the input image\n",
    "image = Image.fromarray(np.uint8(new_img)).convert('RGB')\n",
    "image = Image.fromarray(new_img.astype('uint8'), 'RGB')\n",
    "\n",
    "new_height = 480 if image.height > 480 else image.height\n",
    "new_height -= (new_height % 32)\n",
    "new_width = int(new_height * image.width / image.height)\n",
    "diff = new_width % 32\n",
    "new_width = new_width - diff if diff < 16 else new_width + 32 - diff\n",
    "new_size = (new_width, new_height)\n",
    "image = image.resize(new_size)"
   ]
  },
  {
   "cell_type": "code",
   "execution_count": 40,
   "metadata": {},
   "outputs": [],
   "source": [
    "# prepare image for the model\n",
    "inputs = feature_extractor(images=image, return_tensors=\"pt\")\n",
    "\n",
    "# get the prediction from the model\n",
    "with torch.no_grad():\n",
    "    outputs = model(**inputs)\n",
    "    predicted_depth = outputs.predicted_depth"
   ]
  },
  {
   "cell_type": "code",
   "execution_count": 41,
   "metadata": {},
   "outputs": [],
   "source": [
    "# remove borders\n",
    "pad = 16\n",
    "output = predicted_depth.squeeze().cpu().numpy() * 1000.0\n",
    "output = output[pad:-pad, pad:-pad]\n",
    "image = image.crop((pad, pad, image.width - pad, image.height - pad))"
   ]
  },
  {
   "cell_type": "code",
   "execution_count": 43,
   "metadata": {},
   "outputs": [],
   "source": [
    "# visualize the prediction\n",
    "fig, ax = plt.subplots(1, 3)\n",
    "ax[0].imshow(org_img)\n",
    "ax[0].tick_params(left=False, bottom=False, labelleft=False, labelbottom=False)\n",
    "ax[1].imshow(image)\n",
    "ax[1].tick_params(left=False, bottom=False, labelleft=False, labelbottom=False)\n",
    "ax[2].imshow(output, cmap='plasma')\n",
    "ax[2].tick_params(left=False, bottom=False, labelleft=False, labelbottom=False)\n",
    "plt.tight_layout()\n",
    "plt.pause(5)"
   ]
  },
  {
   "cell_type": "code",
   "execution_count": null,
   "metadata": {},
   "outputs": [],
   "source": []
  }
 ],
 "metadata": {
  "kernelspec": {
   "display_name": "MyEnv39",
   "language": "python",
   "name": "python3"
  },
  "language_info": {
   "codemirror_mode": {
    "name": "ipython",
    "version": 3
   },
   "file_extension": ".py",
   "mimetype": "text/x-python",
   "name": "python",
   "nbconvert_exporter": "python",
   "pygments_lexer": "ipython3",
   "version": "3.9.15"
  },
  "orig_nbformat": 4,
  "vscode": {
   "interpreter": {
    "hash": "1f2d8ac2a6f838f2633fec13061040228a27f2c0e3348cc531b07ce5a30f690d"
   }
  }
 },
 "nbformat": 4,
 "nbformat_minor": 2
}
