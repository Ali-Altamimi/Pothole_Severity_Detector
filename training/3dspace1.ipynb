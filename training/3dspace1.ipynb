{
 "cells": [
  {
   "cell_type": "code",
   "execution_count": 11,
   "metadata": {},
   "outputs": [],
   "source": [
    "import cv2\n",
    "import numpy as np\n",
    "\n",
    "path = \"img_DIR\"\n",
    "imgdir = f\"{path}img\"\n"
   ]
  },
  {
   "cell_type": "code",
   "execution_count": 12,
   "metadata": {},
   "outputs": [],
   "source": [
    "# Load the image from the dash cam\n",
    "img = cv2.imread(imgdir)\n",
    "\n",
    "# Convert the image to grayscale\n",
    "gray = cv2.cvtColor(img, cv2.COLOR_BGR2GRAY)\n",
    "\n",
    "# Use the SIFT feature detector to find keypoints in the image\n",
    "sift = cv2.SIFT_create()\n",
    "kp, des = sift.detectAndCompute(gray, None)\n",
    "\n",
    "# Convert the keypoints to 3D cloud points\n",
    "cloud_points = np.array([kp[i].pt + (0,) for i in range(len(kp))])\n",
    "\n",
    "# # Print the 3D cloud points\n",
    "# print(cloud_points)"
   ]
  },
  {
   "cell_type": "code",
   "execution_count": 13,
   "metadata": {},
   "outputs": [],
   "source": [
    "for point in cloud_points:\n",
    "    x, y = point[:2]\n",
    "    cv2.circle(img, (int(x), int(y)), 2, (0, 0, 255), -1)\n",
    "\n",
    "# Show the image with the cloud points\n",
    "# cv2.imshow(\"Cloud Points\", img)\n",
    "# cv2.waitKey(0)\n",
    "# cv2.destroyAllWindows()"
   ]
  },
  {
   "cell_type": "code",
   "execution_count": 14,
   "metadata": {},
   "outputs": [],
   "source": [
    "# Load the image from the dash cam\n",
    "img = cv2.imread(imgdir)\n",
    "\n",
    "# Load the depth image from the dash cam\n",
    "depth_img = cv2.imread(imgdir, cv2.IMREAD_ANYDEPTH)\n",
    "\n",
    "# Convert the image to grayscale\n",
    "gray = cv2.cvtColor(img, cv2.COLOR_BGR2GRAY)\n",
    "\n",
    "# Use the SIFT feature detector to find keypoints in the image\n",
    "sift = cv2.SIFT_create()\n",
    "kp, des = sift.detectAndCompute(gray, None)\n",
    "\n",
    "# Create an empty list to store the cloud points\n",
    "cloud_points = []\n",
    "\n",
    "# Iterate through each keypoint\n",
    "for i in range(len(kp)):\n",
    "    # Get the (x, y) coordinates of the keypoint\n",
    "    x, y = kp[i].pt\n",
    "    # Get the depth value at the (x, y) coordinates\n",
    "    z = depth_img[int(y), int(x)]\n",
    "    # Append the point as a tuple (x, y, z) to the cloud_points list\n",
    "    cloud_points.append((x, y, z))\n"
   ]
  },
  {
   "cell_type": "code",
   "execution_count": 15,
   "metadata": {},
   "outputs": [
    {
     "data": {
      "text/plain": [
       "True"
      ]
     },
     "execution_count": 15,
     "metadata": {},
     "output_type": "execute_result"
    }
   ],
   "source": [
    "# Draw the 3D cloud points as red dots on the original image\n",
    "for point in cloud_points:\n",
    "    x, y, z = point\n",
    "    # Scale the depth value to be between 0 and 255\n",
    "    z = int(z / np.max(depth_img) * 255)\n",
    "    # Map depth to color, closer points are red, further points are blue\n",
    "    color = (0, 0, z)\n",
    "    cv2.circle(img, (int(x), int(y)), 3, color, -1)\n",
    "\n",
    "# Show the image with the cloud points\n",
    "cv2.imwrite(f\"{path}cvpoints1.jpg\", img)\n",
    "# cv2.imshow(\"Cloud Points\", img)\n",
    "# cv2.waitKey(0)\n",
    "# cv2.destroyAllWindows()"
   ]
  },
  {
   "cell_type": "code",
   "execution_count": null,
   "metadata": {},
   "outputs": [],
   "source": [
    "# Load the image from the dash cam\n",
    "img = cv2.imread(imgdir)\n",
    "\n",
    "# Load the depth image from the dash cam\n",
    "depth_img = cv2.imread(imgdir, cv2.IMREAD_ANYDEPTH)\n",
    "\n",
    "# Scale the depth image to be between 0 and 255\n",
    "depth_img = depth_img / np.max(depth_img) * 255\n",
    "\n",
    "# Map depth to color, closer points are red, further points are blue\n",
    "colored_depth = cv2.applyColorMap(depth_img.astype(np.uint8), cv2.COLORMAP_JET)\n",
    "\n",
    "# Blend the colored depth map with the original image\n",
    "alpha = 0.7\n",
    "beta = 1 - alpha\n",
    "output = cv2.addWeighted(img, alpha, colored_depth, beta, 0)\n",
    "\n",
    "# Show the image with the depth color-coded\n",
    "cv2.imshow(\"Depth Colored\", output)\n",
    "cv2.waitKey(0)\n",
    "cv2.destroyAllWindows()"
   ]
  },
  {
   "cell_type": "code",
   "execution_count": null,
   "metadata": {},
   "outputs": [],
   "source": [
    "# Show the image with the depth color-coded\n",
    "cv2.imshow(\"Depth Colored\", colored_depth)\n",
    "cv2.waitKey(0)\n",
    "cv2.destroyAllWindows()"
   ]
  },
  {
   "cell_type": "code",
   "execution_count": null,
   "metadata": {},
   "outputs": [],
   "source": []
  }
 ],
 "metadata": {
  "kernelspec": {
   "display_name": "MyEnv39",
   "language": "python",
   "name": "python3"
  },
  "language_info": {
   "codemirror_mode": {
    "name": "ipython",
    "version": 3
   },
   "file_extension": ".py",
   "mimetype": "text/x-python",
   "name": "python",
   "nbconvert_exporter": "python",
   "pygments_lexer": "ipython3",
   "version": "3.9.15"
  },
  "orig_nbformat": 4,
  "vscode": {
   "interpreter": {
    "hash": "1f2d8ac2a6f838f2633fec13061040228a27f2c0e3348cc531b07ce5a30f690d"
   }
  }
 },
 "nbformat": 4,
 "nbformat_minor": 2
}
