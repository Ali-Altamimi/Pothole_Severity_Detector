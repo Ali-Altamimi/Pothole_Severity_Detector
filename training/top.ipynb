{
 "cells": [
  {
   "cell_type": "code",
   "execution_count": 3,
   "metadata": {},
   "outputs": [],
   "source": [
    "import cv2\n",
    "import numpy as np\n",
    "\n",
    "path = \"img_DIR\"\n",
    "imgdir = f\"{path}img\"\n",
    "\n",
    "img = cv2.imread(imgdir)"
   ]
  },
  {
   "cell_type": "code",
   "execution_count": 4,
   "metadata": {},
   "outputs": [
    {
     "name": "stdout",
     "output_type": "stream",
     "text": [
      "1080 \t 1920\n"
     ]
    }
   ],
   "source": [
    "size = img.shape\n",
    "xsize = size[0]\n",
    "ysize = size[1]\n",
    "\n",
    "print(xsize, \"\\t\", ysize)"
   ]
  },
  {
   "cell_type": "code",
   "execution_count": 9,
   "metadata": {},
   "outputs": [],
   "source": [
    "pt1 = [800, 400]\n",
    "pt2 = [200, 900]\n",
    "pts = np.array([pt1, [ysize-pt1[0], pt1[1]], [ysize-pt2[0], pt2[1]], pt2], dtype=np.float32)\n",
    "\n",
    "# for pt in pts:\n",
    "#     cv2.circle(img, tuple(pt.astype(np.int)), 1, (0,0,255), -1)\n",
    "\n"
   ]
  },
  {
   "cell_type": "code",
   "execution_count": 14,
   "metadata": {},
   "outputs": [],
   "source": [
    "# compute IPM matrix and apply it\n",
    "xbound = 700\n",
    "yoff = 120\n",
    "# ybound = 200\n",
    "# yext = 500\n",
    "ipm_pts = np.array([[xbound,yoff], [ysize-xbound, yoff], [ysize-xbound, pt2[1]+yoff], [xbound, pt2[1]+yoff]], dtype=np.float32)\n",
    "\n",
    "ipm_matrix = cv2.getPerspectiveTransform(pts, ipm_pts)\n",
    "ipm = cv2.warpPerspective(img, ipm_matrix, img.shape[:2][::-1])\n"
   ]
  },
  {
   "cell_type": "code",
   "execution_count": 15,
   "metadata": {},
   "outputs": [
    {
     "data": {
      "text/plain": [
       "-1"
      ]
     },
     "execution_count": 15,
     "metadata": {},
     "output_type": "execute_result"
    }
   ],
   "source": [
    "# display (or save) images\n",
    "\n",
    "\n",
    "cv2.imshow('img', img)\n",
    "cv2.imshow('ipm', ipm)\n",
    "cv2.waitKey()"
   ]
  },
  {
   "cell_type": "code",
   "execution_count": 8,
   "metadata": {},
   "outputs": [
    {
     "data": {
      "text/plain": [
       "True"
      ]
     },
     "execution_count": 8,
     "metadata": {},
     "output_type": "execute_result"
    }
   ],
   "source": [
    "cv2.imwrite('top.png', ipm)"
   ]
  },
  {
   "cell_type": "code",
   "execution_count": 18,
   "metadata": {},
   "outputs": [],
   "source": [
    "# Load the image from the dash cam\n",
    "img = cv2.imread('top.png')\n",
    "\n",
    "# Load the depth image from the dash cam\n",
    "depth_img = cv2.imread('top.png', cv2.IMREAD_ANYDEPTH)\n",
    "\n",
    "# Scale the depth image to be between 0 and 255\n",
    "depth_img = depth_img / np.max(depth_img) * 255\n",
    "\n",
    "# Map depth to color, closer points are red, further points are blue\n",
    "colored_depth = cv2.applyColorMap(depth_img.astype(np.uint8), cv2.COLORMAP_JET)\n",
    "\n",
    "# Blend the colored depth map with the original image\n",
    "alpha = 0.1\n",
    "beta = 1 - alpha\n",
    "output = cv2.addWeighted(img, alpha, colored_depth, beta, 0)\n",
    "\n",
    "# Show the image with the depth color-coded\n",
    "cv2.imshow(\"Depth Colored\", output)\n",
    "cv2.waitKey(0)\n",
    "cv2.destroyAllWindows()"
   ]
  },
  {
   "cell_type": "code",
   "execution_count": null,
   "metadata": {},
   "outputs": [],
   "source": []
  }
 ],
 "metadata": {
  "kernelspec": {
   "display_name": "MyEnv39",
   "language": "python",
   "name": "python3"
  },
  "language_info": {
   "codemirror_mode": {
    "name": "ipython",
    "version": 3
   },
   "file_extension": ".py",
   "mimetype": "text/x-python",
   "name": "python",
   "nbconvert_exporter": "python",
   "pygments_lexer": "ipython3",
   "version": "3.9.15"
  },
  "orig_nbformat": 4,
  "vscode": {
   "interpreter": {
    "hash": "1f2d8ac2a6f838f2633fec13061040228a27f2c0e3348cc531b07ce5a30f690d"
   }
  }
 },
 "nbformat": 4,
 "nbformat_minor": 2
}
